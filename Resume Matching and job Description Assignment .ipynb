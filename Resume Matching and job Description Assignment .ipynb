{
 "cells": [
  {
   "cell_type": "code",
   "execution_count": 1,
   "id": "c9ef743c",
   "metadata": {},
   "outputs": [
    {
     "name": "stdout",
     "output_type": "stream",
     "text": [
      "Collecting kaggle\n",
      "  Downloading kaggle-1.5.16.tar.gz (83 kB)\n",
      "     -------------------------------------- 83.6/83.6 kB 672.9 kB/s eta 0:00:00\n",
      "  Preparing metadata (setup.py): started\n",
      "  Preparing metadata (setup.py): finished with status 'done'\n",
      "Requirement already satisfied: six>=1.10 in c:\\users\\prajwal\\anaconda3\\new folder\\lib\\site-packages (from kaggle) (1.16.0)\n",
      "Requirement already satisfied: certifi in c:\\users\\prajwal\\anaconda3\\new folder\\lib\\site-packages (from kaggle) (2022.9.24)\n",
      "Requirement already satisfied: python-dateutil in c:\\users\\prajwal\\anaconda3\\new folder\\lib\\site-packages (from kaggle) (2.8.2)\n",
      "Requirement already satisfied: requests in c:\\users\\prajwal\\anaconda3\\new folder\\lib\\site-packages (from kaggle) (2.28.1)\n",
      "Requirement already satisfied: tqdm in c:\\users\\prajwal\\anaconda3\\new folder\\lib\\site-packages (from kaggle) (4.64.1)\n",
      "Requirement already satisfied: python-slugify in c:\\users\\prajwal\\anaconda3\\new folder\\lib\\site-packages (from kaggle) (5.0.2)\n",
      "Requirement already satisfied: urllib3 in c:\\users\\prajwal\\anaconda3\\new folder\\lib\\site-packages (from kaggle) (1.26.11)\n",
      "Requirement already satisfied: bleach in c:\\users\\prajwal\\anaconda3\\new folder\\lib\\site-packages (from kaggle) (4.1.0)\n",
      "Requirement already satisfied: packaging in c:\\users\\prajwal\\anaconda3\\new folder\\lib\\site-packages (from bleach->kaggle) (21.3)\n",
      "Requirement already satisfied: webencodings in c:\\users\\prajwal\\anaconda3\\new folder\\lib\\site-packages (from bleach->kaggle) (0.5.1)\n",
      "Requirement already satisfied: text-unidecode>=1.3 in c:\\users\\prajwal\\anaconda3\\new folder\\lib\\site-packages (from python-slugify->kaggle) (1.3)\n",
      "Requirement already satisfied: charset-normalizer<3,>=2 in c:\\users\\prajwal\\anaconda3\\new folder\\lib\\site-packages (from requests->kaggle) (2.0.4)\n",
      "Requirement already satisfied: idna<4,>=2.5 in c:\\users\\prajwal\\anaconda3\\new folder\\lib\\site-packages (from requests->kaggle) (3.3)\n",
      "Requirement already satisfied: colorama in c:\\users\\prajwal\\anaconda3\\new folder\\lib\\site-packages (from tqdm->kaggle) (0.4.5)\n",
      "Requirement already satisfied: pyparsing!=3.0.5,>=2.0.2 in c:\\users\\prajwal\\anaconda3\\new folder\\lib\\site-packages (from packaging->bleach->kaggle) (3.0.9)\n",
      "Building wheels for collected packages: kaggle\n",
      "  Building wheel for kaggle (setup.py): started\n",
      "  Building wheel for kaggle (setup.py): finished with status 'done'\n",
      "  Created wheel for kaggle: filename=kaggle-1.5.16-py3-none-any.whl size=110686 sha256=593fa1d650e46887e66f7e9153847f5c54d47328a48b4773b47420c8d8b98592\n",
      "  Stored in directory: c:\\users\\prajwal\\appdata\\local\\pip\\cache\\wheels\\d2\\ed\\a5\\da3a0cfb13373d1ace41cafa4f2467d858c55c52473ba72799\n",
      "Successfully built kaggle\n",
      "Installing collected packages: kaggle\n",
      "Successfully installed kaggle-1.5.16\n",
      "Note: you may need to restart the kernel to use updated packages.\n"
     ]
    }
   ],
   "source": [
    "pip install kaggle"
   ]
  },
  {
   "cell_type": "code",
   "execution_count": 2,
   "id": "0d5a63b8",
   "metadata": {},
   "outputs": [
    {
     "name": "stdout",
     "output_type": "stream",
     "text": [
      "Note: you may need to restart the kernel to use updated packages.\n",
      "Requirement already satisfied: datasets in c:\\users\\prajwal\\anaconda3\\new folder\\lib\\site-packages (2.7.1)\n",
      "Requirement already satisfied: aiohttp in c:\\users\\prajwal\\anaconda3\\new folder\\lib\\site-packages (from datasets) (3.8.3)\n",
      "Requirement already satisfied: pyarrow>=6.0.0 in c:\\users\\prajwal\\anaconda3\\new folder\\lib\\site-packages (from datasets) (10.0.1)\n",
      "Requirement already satisfied: xxhash in c:\\users\\prajwal\\anaconda3\\new folder\\lib\\site-packages (from datasets) (3.1.0)\n",
      "Requirement already satisfied: dill<0.3.7 in c:\\users\\prajwal\\anaconda3\\new folder\\lib\\site-packages (from datasets) (0.3.6)\n",
      "Requirement already satisfied: pandas in c:\\users\\prajwal\\anaconda3\\new folder\\lib\\site-packages (from datasets) (1.4.4)\n",
      "Requirement already satisfied: multiprocess in c:\\users\\prajwal\\anaconda3\\new folder\\lib\\site-packages (from datasets) (0.70.14)\n",
      "Requirement already satisfied: packaging in c:\\users\\prajwal\\anaconda3\\new folder\\lib\\site-packages (from datasets) (21.3)\n",
      "Requirement already satisfied: responses<0.19 in c:\\users\\prajwal\\anaconda3\\new folder\\lib\\site-packages (from datasets) (0.18.0)\n",
      "Requirement already satisfied: pyyaml>=5.1 in c:\\users\\prajwal\\anaconda3\\new folder\\lib\\site-packages (from datasets) (6.0)\n",
      "Requirement already satisfied: numpy>=1.17 in c:\\users\\prajwal\\anaconda3\\new folder\\lib\\site-packages (from datasets) (1.21.5)\n",
      "Requirement already satisfied: huggingface-hub<1.0.0,>=0.2.0 in c:\\users\\prajwal\\anaconda3\\new folder\\lib\\site-packages (from datasets) (0.11.1)\n",
      "Requirement already satisfied: tqdm>=4.62.1 in c:\\users\\prajwal\\anaconda3\\new folder\\lib\\site-packages (from datasets) (4.64.1)\n",
      "Requirement already satisfied: fsspec[http]>=2021.11.1 in c:\\users\\prajwal\\anaconda3\\new folder\\lib\\site-packages (from datasets) (2022.7.1)\n",
      "Requirement already satisfied: requests>=2.19.0 in c:\\users\\prajwal\\anaconda3\\new folder\\lib\\site-packages (from datasets) (2.28.1)\n",
      "Requirement already satisfied: filelock in c:\\users\\prajwal\\anaconda3\\new folder\\lib\\site-packages (from huggingface-hub<1.0.0,>=0.2.0->datasets) (3.6.0)\n",
      "Requirement already satisfied: typing-extensions>=3.7.4.3 in c:\\users\\prajwal\\anaconda3\\new folder\\lib\\site-packages (from huggingface-hub<1.0.0,>=0.2.0->datasets) (4.3.0)\n",
      "Requirement already satisfied: pyparsing!=3.0.5,>=2.0.2 in c:\\users\\prajwal\\anaconda3\\new folder\\lib\\site-packages (from packaging->datasets) (3.0.9)\n",
      "Requirement already satisfied: charset-normalizer<3,>=2 in c:\\users\\prajwal\\anaconda3\\new folder\\lib\\site-packages (from requests>=2.19.0->datasets) (2.0.4)\n",
      "Requirement already satisfied: certifi>=2017.4.17 in c:\\users\\prajwal\\anaconda3\\new folder\\lib\\site-packages (from requests>=2.19.0->datasets) (2022.9.24)\n",
      "Requirement already satisfied: urllib3<1.27,>=1.21.1 in c:\\users\\prajwal\\anaconda3\\new folder\\lib\\site-packages (from requests>=2.19.0->datasets) (1.26.11)\n",
      "Requirement already satisfied: idna<4,>=2.5 in c:\\users\\prajwal\\anaconda3\\new folder\\lib\\site-packages (from requests>=2.19.0->datasets) (3.3)\n",
      "Requirement already satisfied: colorama in c:\\users\\prajwal\\anaconda3\\new folder\\lib\\site-packages (from tqdm>=4.62.1->datasets) (0.4.5)\n",
      "Requirement already satisfied: frozenlist>=1.1.1 in c:\\users\\prajwal\\anaconda3\\new folder\\lib\\site-packages (from aiohttp->datasets) (1.3.3)\n",
      "Requirement already satisfied: yarl<2.0,>=1.0 in c:\\users\\prajwal\\anaconda3\\new folder\\lib\\site-packages (from aiohttp->datasets) (1.8.2)\n",
      "Requirement already satisfied: aiosignal>=1.1.2 in c:\\users\\prajwal\\anaconda3\\new folder\\lib\\site-packages (from aiohttp->datasets) (1.3.1)\n",
      "Requirement already satisfied: attrs>=17.3.0 in c:\\users\\prajwal\\anaconda3\\new folder\\lib\\site-packages (from aiohttp->datasets) (21.4.0)\n",
      "Requirement already satisfied: async-timeout<5.0,>=4.0.0a3 in c:\\users\\prajwal\\anaconda3\\new folder\\lib\\site-packages (from aiohttp->datasets) (4.0.2)\n",
      "Requirement already satisfied: multidict<7.0,>=4.5 in c:\\users\\prajwal\\anaconda3\\new folder\\lib\\site-packages (from aiohttp->datasets) (6.0.3)\n",
      "Requirement already satisfied: pytz>=2020.1 in c:\\users\\prajwal\\anaconda3\\new folder\\lib\\site-packages (from pandas->datasets) (2022.7.1)\n",
      "Requirement already satisfied: python-dateutil>=2.8.1 in c:\\users\\prajwal\\anaconda3\\new folder\\lib\\site-packages (from pandas->datasets) (2.8.2)\n",
      "Requirement already satisfied: six>=1.5 in c:\\users\\prajwal\\anaconda3\\new folder\\lib\\site-packages (from python-dateutil>=2.8.1->pandas->datasets) (1.16.0)\n"
     ]
    }
   ],
   "source": [
    "pip install datasets"
   ]
  },
  {
   "cell_type": "code",
   "execution_count": 3,
   "id": "2f529058",
   "metadata": {},
   "outputs": [
    {
     "name": "stdout",
     "output_type": "stream",
     "text": [
      "Requirement already satisfied: transformers in c:\\users\\prajwal\\anaconda3\\new folder\\lib\\site-packages (4.25.1)Note: you may need to restart the kernel to use updated packages.\n",
      "\n",
      "Requirement already satisfied: huggingface-hub<1.0,>=0.10.0 in c:\\users\\prajwal\\anaconda3\\new folder\\lib\\site-packages (from transformers) (0.11.1)\n",
      "Requirement already satisfied: tqdm>=4.27 in c:\\users\\prajwal\\anaconda3\\new folder\\lib\\site-packages (from transformers) (4.64.1)\n",
      "Requirement already satisfied: numpy>=1.17 in c:\\users\\prajwal\\anaconda3\\new folder\\lib\\site-packages (from transformers) (1.21.5)\n",
      "Requirement already satisfied: tokenizers!=0.11.3,<0.14,>=0.11.1 in c:\\users\\prajwal\\anaconda3\\new folder\\lib\\site-packages (from transformers) (0.13.2)\n",
      "Requirement already satisfied: requests in c:\\users\\prajwal\\anaconda3\\new folder\\lib\\site-packages (from transformers) (2.28.1)\n",
      "Requirement already satisfied: packaging>=20.0 in c:\\users\\prajwal\\anaconda3\\new folder\\lib\\site-packages (from transformers) (21.3)\n",
      "Requirement already satisfied: pyyaml>=5.1 in c:\\users\\prajwal\\anaconda3\\new folder\\lib\\site-packages (from transformers) (6.0)\n",
      "Requirement already satisfied: regex!=2019.12.17 in c:\\users\\prajwal\\anaconda3\\new folder\\lib\\site-packages (from transformers) (2022.7.9)\n",
      "Requirement already satisfied: filelock in c:\\users\\prajwal\\anaconda3\\new folder\\lib\\site-packages (from transformers) (3.6.0)\n",
      "Requirement already satisfied: typing-extensions>=3.7.4.3 in c:\\users\\prajwal\\anaconda3\\new folder\\lib\\site-packages (from huggingface-hub<1.0,>=0.10.0->transformers) (4.3.0)\n",
      "Requirement already satisfied: pyparsing!=3.0.5,>=2.0.2 in c:\\users\\prajwal\\anaconda3\\new folder\\lib\\site-packages (from packaging>=20.0->transformers) (3.0.9)\n",
      "Requirement already satisfied: colorama in c:\\users\\prajwal\\anaconda3\\new folder\\lib\\site-packages (from tqdm>=4.27->transformers) (0.4.5)\n",
      "Requirement already satisfied: idna<4,>=2.5 in c:\\users\\prajwal\\anaconda3\\new folder\\lib\\site-packages (from requests->transformers) (3.3)\n",
      "Requirement already satisfied: urllib3<1.27,>=1.21.1 in c:\\users\\prajwal\\anaconda3\\new folder\\lib\\site-packages (from requests->transformers) (1.26.11)\n",
      "Requirement already satisfied: certifi>=2017.4.17 in c:\\users\\prajwal\\anaconda3\\new folder\\lib\\site-packages (from requests->transformers) (2022.9.24)\n",
      "Requirement already satisfied: charset-normalizer<3,>=2 in c:\\users\\prajwal\\anaconda3\\new folder\\lib\\site-packages (from requests->transformers) (2.0.4)\n"
     ]
    }
   ],
   "source": [
    "pip install transformers"
   ]
  },
  {
   "cell_type": "code",
   "execution_count": 4,
   "id": "41a0b54a",
   "metadata": {},
   "outputs": [
    {
     "name": "stdout",
     "output_type": "stream",
     "text": [
      "Requirement already satisfied: PyPDF2 in c:\\users\\prajwal\\anaconda3\\new folder\\lib\\site-packages (3.0.1)\n",
      "Requirement already satisfied: typing_extensions>=3.10.0.0 in c:\\users\\prajwal\\anaconda3\\new folder\\lib\\site-packages (from PyPDF2) (4.3.0)\n",
      "Note: you may need to restart the kernel to use updated packages.\n"
     ]
    }
   ],
   "source": [
    "pip install PyPDF2"
   ]
  },
  {
   "cell_type": "code",
   "execution_count": 5,
   "id": "c97a41ab",
   "metadata": {},
   "outputs": [],
   "source": [
    "import numpy as np \n",
    "import pandas as pd \n",
    "import os\n",
    "for dirname, _, filenames in os.walk('/kaggle/input'):\n",
    "    for filename in filenames:\n",
    "        print(os.path.join(dirname, filename))"
   ]
  },
  {
   "cell_type": "code",
   "execution_count": 6,
   "id": "d2686b19",
   "metadata": {},
   "outputs": [],
   "source": [
    "import sklearn\n",
    "import matplotlib.pyplot as plt\n",
    "from tqdm.auto import tqdm\n",
    "import datasets\n",
    "import transformers"
   ]
  },
  {
   "cell_type": "code",
   "execution_count": 7,
   "id": "8085fd08",
   "metadata": {},
   "outputs": [
    {
     "name": "stderr",
     "output_type": "stream",
     "text": [
      "ERROR: Invalid requirement: '#pyspark'\n"
     ]
    }
   ],
   "source": [
    "#install all packages\n",
    "!pip install tokenizer transformers scikit-learn pypdf==3.16.0 nltk pandarallel pandas==2.1.0 datasets #pyspark pyarrow"
   ]
  },
  {
   "cell_type": "code",
   "execution_count": 8,
   "id": "c580c70d",
   "metadata": {},
   "outputs": [
    {
     "name": "stderr",
     "output_type": "stream",
     "text": [
      "'chmod' is not recognized as an internal or external command,\n",
      "operable program or batch file.\n"
     ]
    }
   ],
   "source": [
    "!chmod 600 ~/.kaggle/kaggle.json"
   ]
  },
  {
   "cell_type": "code",
   "execution_count": 9,
   "id": "459af286",
   "metadata": {},
   "outputs": [
    {
     "name": "stderr",
     "output_type": "stream",
     "text": [
      "Traceback (most recent call last):\n",
      "  File \"C:\\Users\\Prajwal\\anaconda3\\New folder\\lib\\runpy.py\", line 197, in _run_module_as_main\n",
      "    return _run_code(code, main_globals, None,\n",
      "  File \"C:\\Users\\Prajwal\\anaconda3\\New folder\\lib\\runpy.py\", line 87, in _run_code\n",
      "    exec(code, run_globals)\n",
      "  File \"C:\\Users\\Prajwal\\anaconda3\\New folder\\Scripts\\kaggle.exe\\__main__.py\", line 4, in <module>\n",
      "  File \"C:\\Users\\Prajwal\\anaconda3\\New folder\\lib\\site-packages\\kaggle\\__init__.py\", line 23, in <module>\n",
      "    api.authenticate()\n",
      "  File \"C:\\Users\\Prajwal\\anaconda3\\New folder\\lib\\site-packages\\kaggle\\api\\kaggle_api_extended.py\", line 403, in authenticate\n",
      "    raise IOError('Could not find {}. Make sure it\\'s located in'\n",
      "OSError: Could not find kaggle.json. Make sure it's located in C:\\Users\\Prajwal\\.kaggle. Or use the environment method.\n"
     ]
    }
   ],
   "source": [
    "!kaggle datasets download -d snehaanbhawal/resume-dataset"
   ]
  },
  {
   "cell_type": "code",
   "execution_count": 10,
   "id": "a5872f74",
   "metadata": {},
   "outputs": [
    {
     "data": {
      "text/html": [
       "<div>\n",
       "<style scoped>\n",
       "    .dataframe tbody tr th:only-of-type {\n",
       "        vertical-align: middle;\n",
       "    }\n",
       "\n",
       "    .dataframe tbody tr th {\n",
       "        vertical-align: top;\n",
       "    }\n",
       "\n",
       "    .dataframe thead th {\n",
       "        text-align: right;\n",
       "    }\n",
       "</style>\n",
       "<table border=\"1\" class=\"dataframe\">\n",
       "  <thead>\n",
       "    <tr style=\"text-align: right;\">\n",
       "      <th></th>\n",
       "      <th>ID</th>\n",
       "      <th>Resume_str</th>\n",
       "      <th>Resume_html</th>\n",
       "      <th>Category</th>\n",
       "    </tr>\n",
       "  </thead>\n",
       "  <tbody>\n",
       "    <tr>\n",
       "      <th>0</th>\n",
       "      <td>16852973</td>\n",
       "      <td>HR ADMINISTRATOR/MARKETING ASSOCIATE\\...</td>\n",
       "      <td>&lt;div class=\"fontsize fontface vmargins hmargin...</td>\n",
       "      <td>HR</td>\n",
       "    </tr>\n",
       "    <tr>\n",
       "      <th>1</th>\n",
       "      <td>22323967</td>\n",
       "      <td>HR SPECIALIST, US HR OPERATIONS      ...</td>\n",
       "      <td>&lt;div class=\"fontsize fontface vmargins hmargin...</td>\n",
       "      <td>HR</td>\n",
       "    </tr>\n",
       "    <tr>\n",
       "      <th>2</th>\n",
       "      <td>33176873</td>\n",
       "      <td>HR DIRECTOR       Summary      Over 2...</td>\n",
       "      <td>&lt;div class=\"fontsize fontface vmargins hmargin...</td>\n",
       "      <td>HR</td>\n",
       "    </tr>\n",
       "    <tr>\n",
       "      <th>3</th>\n",
       "      <td>27018550</td>\n",
       "      <td>HR SPECIALIST       Summary    Dedica...</td>\n",
       "      <td>&lt;div class=\"fontsize fontface vmargins hmargin...</td>\n",
       "      <td>HR</td>\n",
       "    </tr>\n",
       "    <tr>\n",
       "      <th>4</th>\n",
       "      <td>17812897</td>\n",
       "      <td>HR MANAGER         Skill Highlights  ...</td>\n",
       "      <td>&lt;div class=\"fontsize fontface vmargins hmargin...</td>\n",
       "      <td>HR</td>\n",
       "    </tr>\n",
       "  </tbody>\n",
       "</table>\n",
       "</div>"
      ],
      "text/plain": [
       "         ID                                         Resume_str  \\\n",
       "0  16852973           HR ADMINISTRATOR/MARKETING ASSOCIATE\\...   \n",
       "1  22323967           HR SPECIALIST, US HR OPERATIONS      ...   \n",
       "2  33176873           HR DIRECTOR       Summary      Over 2...   \n",
       "3  27018550           HR SPECIALIST       Summary    Dedica...   \n",
       "4  17812897           HR MANAGER         Skill Highlights  ...   \n",
       "\n",
       "                                         Resume_html Category  \n",
       "0  <div class=\"fontsize fontface vmargins hmargin...       HR  \n",
       "1  <div class=\"fontsize fontface vmargins hmargin...       HR  \n",
       "2  <div class=\"fontsize fontface vmargins hmargin...       HR  \n",
       "3  <div class=\"fontsize fontface vmargins hmargin...       HR  \n",
       "4  <div class=\"fontsize fontface vmargins hmargin...       HR  "
      ]
     },
     "execution_count": 10,
     "metadata": {},
     "output_type": "execute_result"
    }
   ],
   "source": [
    "#resume_data=pd.read_csv(\"kaggle resume dataset filepath\") change it accordingly\n",
    "import os\n",
    "resume_data=pd.read_csv(\"Resume.csv\")\n",
    "resume_data.head()"
   ]
  },
  {
   "cell_type": "code",
   "execution_count": 11,
   "id": "8a7971e9",
   "metadata": {},
   "outputs": [
    {
     "name": "stdout",
     "output_type": "stream",
     "text": [
      "<class 'pandas.core.frame.DataFrame'>\n",
      "RangeIndex: 2484 entries, 0 to 2483\n",
      "Data columns (total 4 columns):\n",
      " #   Column       Non-Null Count  Dtype \n",
      "---  ------       --------------  ----- \n",
      " 0   ID           2484 non-null   int64 \n",
      " 1   Resume_str   2484 non-null   object\n",
      " 2   Resume_html  2484 non-null   object\n",
      " 3   Category     2484 non-null   object\n",
      "dtypes: int64(1), object(3)\n",
      "memory usage: 77.8+ KB\n"
     ]
    }
   ],
   "source": [
    "resume_data.info()"
   ]
  },
  {
   "cell_type": "code",
   "execution_count": 12,
   "id": "095aa765",
   "metadata": {},
   "outputs": [
    {
     "data": {
      "text/plain": [
       "(2484, 4)"
      ]
     },
     "execution_count": 12,
     "metadata": {},
     "output_type": "execute_result"
    }
   ],
   "source": [
    "resume_data.shape"
   ]
  },
  {
   "cell_type": "code",
   "execution_count": 13,
   "id": "ed963107",
   "metadata": {},
   "outputs": [
    {
     "data": {
      "text/plain": [
       "array(['HR', 'DESIGNER', 'INFORMATION-TECHNOLOGY', 'TEACHER', 'ADVOCATE',\n",
       "       'BUSINESS-DEVELOPMENT', 'HEALTHCARE', 'FITNESS', 'AGRICULTURE',\n",
       "       'BPO', 'SALES', 'CONSULTANT', 'DIGITAL-MEDIA', 'AUTOMOBILE',\n",
       "       'CHEF', 'FINANCE', 'APPAREL', 'ENGINEERING', 'ACCOUNTANT',\n",
       "       'CONSTRUCTION', 'PUBLIC-RELATIONS', 'BANKING', 'ARTS', 'AVIATION'],\n",
       "      dtype=object)"
      ]
     },
     "execution_count": 13,
     "metadata": {},
     "output_type": "execute_result"
    }
   ],
   "source": [
    "resume_data['Category'].unique()"
   ]
  },
  {
   "cell_type": "code",
   "execution_count": 14,
   "id": "27f4d32c",
   "metadata": {},
   "outputs": [
    {
     "data": {
      "text/plain": [
       "INFORMATION-TECHNOLOGY    120\n",
       "BUSINESS-DEVELOPMENT      120\n",
       "FINANCE                   118\n",
       "ADVOCATE                  118\n",
       "ACCOUNTANT                118\n",
       "ENGINEERING               118\n",
       "CHEF                      118\n",
       "AVIATION                  117\n",
       "FITNESS                   117\n",
       "SALES                     116\n",
       "BANKING                   115\n",
       "HEALTHCARE                115\n",
       "CONSULTANT                115\n",
       "CONSTRUCTION              112\n",
       "PUBLIC-RELATIONS          111\n",
       "HR                        110\n",
       "DESIGNER                  107\n",
       "ARTS                      103\n",
       "TEACHER                   102\n",
       "APPAREL                    97\n",
       "DIGITAL-MEDIA              96\n",
       "AGRICULTURE                63\n",
       "AUTOMOBILE                 36\n",
       "BPO                        22\n",
       "Name: Category, dtype: int64"
      ]
     },
     "execution_count": 14,
     "metadata": {},
     "output_type": "execute_result"
    }
   ],
   "source": [
    "# check how many resume are available in every category.\n",
    "resume_data['Category'].value_counts()"
   ]
  },
  {
   "cell_type": "code",
   "execution_count": 15,
   "id": "bde6dccd",
   "metadata": {},
   "outputs": [
    {
     "data": {
      "text/plain": [
       "24"
      ]
     },
     "execution_count": 15,
     "metadata": {},
     "output_type": "execute_result"
    }
   ],
   "source": [
    "len(resume_data['Category'].value_counts())"
   ]
  },
  {
   "cell_type": "code",
   "execution_count": 16,
   "id": "3683c96f",
   "metadata": {},
   "outputs": [
    {
     "data": {
      "image/png": "[encoded data removed]",
      "text/plain": [
       "<Figure size 1500x600 with 1 Axes>"
      ]
     },
     "metadata": {},
     "output_type": "display_data"
    }
   ],
   "source": [
    "# Visualize the distribution of categories\n",
    "import matplotlib.pyplot as plt\n",
    "%matplotlib inline\n",
    "import seaborn as sns\n",
    "\n",
    "plt.figure(figsize=(15, 6))\n",
    "sns.countplot(x=resume_data['Category'])\n",
    "plt.xticks(rotation=90)\n",
    "plt.title('Category Distribution')\n",
    "plt.show()"
   ]
  },
  {
   "cell_type": "code",
   "execution_count": 17,
   "id": "5cc2d99f",
   "metadata": {},
   "outputs": [
    {
     "data": {
      "application/vnd.jupyter.widget-view+json": {
       "model_id": "19f5a960795e4b45a682404a2464e2f3",
       "version_major": 2,
       "version_minor": 0
      },
      "text/plain": [
       "Downloading readme:   0%|          | 0.00/24.0 [00:00<?, ?B/s]"
      ]
     },
     "metadata": {},
     "output_type": "display_data"
    },
    {
     "name": "stderr",
     "output_type": "stream",
     "text": [
      "Using custom data configuration jacob-hugging-face--job-descriptions-e513dffdc3449e98\n"
     ]
    },
    {
     "name": "stdout",
     "output_type": "stream",
     "text": [
      "Downloading and preparing dataset csv/jacob-hugging-face--job-descriptions to C:/Users/Prajwal/.cache/huggingface/datasets/jacob-hugging-face___csv/jacob-hugging-face--job-descriptions-e513dffdc3449e98/0.0.0/6b34fb8fcf56f7c8ba51dc895bfa2bfbe43546f190a60fcf74bb5e8afdcc2317...\n"
     ]
    },
    {
     "data": {
      "application/vnd.jupyter.widget-view+json": {
       "model_id": "c225beda735b4fbdb086b96c805f7a0c",
       "version_major": 2,
       "version_minor": 0
      },
      "text/plain": [
       "Downloading data files:   0%|          | 0/1 [00:00<?, ?it/s]"
      ]
     },
     "metadata": {},
     "output_type": "display_data"
    },
    {
     "data": {
      "application/vnd.jupyter.widget-view+json": {
       "model_id": "332ae138861b4aea824f55f9e2d31021",
       "version_major": 2,
       "version_minor": 0
      },
      "text/plain": [
       "Downloading data:   0%|          | 0.00/3.77M [00:00<?, ?B/s]"
      ]
     },
     "metadata": {},
     "output_type": "display_data"
    },
    {
     "data": {
      "application/vnd.jupyter.widget-view+json": {
       "model_id": "8428a5235a454809a059f4973194f84c",
       "version_major": 2,
       "version_minor": 0
      },
      "text/plain": [
       "Extracting data files:   0%|          | 0/1 [00:00<?, ?it/s]"
      ]
     },
     "metadata": {},
     "output_type": "display_data"
    },
    {
     "data": {
      "application/vnd.jupyter.widget-view+json": {
       "model_id": "",
       "version_major": 2,
       "version_minor": 0
      },
      "text/plain": [
       "Generating train split: 0 examples [00:00, ? examples/s]"
      ]
     },
     "metadata": {},
     "output_type": "display_data"
    },
    {
     "name": "stdout",
     "output_type": "stream",
     "text": [
      "Dataset csv downloaded and prepared to C:/Users/Prajwal/.cache/huggingface/datasets/jacob-hugging-face___csv/jacob-hugging-face--job-descriptions-e513dffdc3449e98/0.0.0/6b34fb8fcf56f7c8ba51dc895bfa2bfbe43546f190a60fcf74bb5e8afdcc2317. Subsequent calls will reuse this data.\n"
     ]
    },
    {
     "data": {
      "application/vnd.jupyter.widget-view+json": {
       "model_id": "293d986725f049999d38e1affe473df2",
       "version_major": 2,
       "version_minor": 0
      },
      "text/plain": [
       "  0%|          | 0/1 [00:00<?, ?it/s]"
      ]
     },
     "metadata": {},
     "output_type": "display_data"
    },
    {
     "name": "stdout",
     "output_type": "stream",
     "text": [
      "Job Description 1:\n",
      "minimum qualifications\n",
      "bachelors degree or equivalent practical experience years of experience in saas or productivity tools businessexperience managing enterprise accounts with sales cycles\n",
      "preferred qualifications\n",
      " years of experience building strategic business partnerships with enterprise customersability to work through and with a reseller ecosystem to scale the businessability to plan pitch and execute a territory business strategyability to build relationships and to deliver results in a crossfunctionalmatrixed environmentability to identify crosspromoting and uppromoting opportunities within the existing account baseexcellent account management writtenverbal communication strategic and analyticalthinking skills\n",
      "about the job\n",
      "as a member of the google cloud team you inspire leading companies schools and government agencies to work smarter with google tools like google workspace search and chrome you advocate the innovative power of our products to make organizations more productive collaborative and mobile your guiding light is doing whats right for the customer you will meet customers exactly where they are at and provide them the best solutions for innovation using your passion for google products you help spread the magic of google to organizations around the world\n",
      "the google workspace team helps customers transform and evolve their business through the use of googles productivity collaboration and content management suite of applications as part of an entrepreneurial team in this growing business you will help shape the future of businesses use technology to connect with customers employees and partners\n",
      "as a google workspace sales specialist you will be responsible for maintenance and expansion of google workspace business growth across the region with customers in this role youll create and execute the strategy and provide unique insights on applying google workspace solutions to enterprisesyou will build an excellent pipeline and work with the account teams to build out the customer solution and establish partnerships you will strategize with partners to increase account and territory business growth you will work directly with customers coordinate internal resources and construct successful strategies at account and territory level\n",
      "google cloud accelerates organizations ability to digitally transform their business with the best infrastructure platform industry solutions and expertise we deliver enterprisegrade solutions that leverage googles cuttingedge technology  all on the cleanest cloud in the industry customers in more than  countries and territories turn to google cloud as their trusted partner to enable growth and solve their most critical business problems\n",
      "==================================================\n",
      "Job Description 2:\n",
      "description\n",
      "as an asc you will be highly influential in growing mind and market share of apple products while building longterm relationships with those who share your passion \n",
      "customer experiences are driven through you and your partner team growing in an ever changing and challenging environment you strive for perfection whether its maintaining visual merchandising or helping to grow and develop your partner team\n",
      "\n",
      "qualifications\n",
      "a passion to help people understand how apple products can enrich their livesexcellent communication skills allowing you to be as comfortable in front of a small group as you are speaking with individuals years preferred working in a dynamic sales andor results driven environment as well as proven success developing customer loyaltyability to encourage a partner team and grow apple business\n",
      "==================================================\n",
      "Job Description 3:\n",
      "its an amazing time to be joining netflix as we continue to transform entertainment globally netflix is the worlds leading internet entertainment service with over  million paid memberships in over  countries enjoying tv series documentaries and feature films across a wide variety of genres and languages members can watch as much as they want anytime anywhere on any internetconnected screen members can play pause and resume watching all without commercials or commitments\n",
      "\n",
      "the consumer products team aspires to connect members to our content and each other by bringing their favorite stories to real life our products and campaigns should entertain delight and bring joy to our fans all over the world \n",
      "\n",
      "due to the expansion of licensees and categories we are in need of additional support with active and prospective partnerships for current and upcoming titles we are looking for a licensing coordinator who will work across the entire slate of netflix content to bring our content to life via compelling products they will support two managers who oversee the food and beverage toys and collectibles electronics and sporting goods categories focusing on us and canada regional opportunities the individual would be a taskmaster extraordinaire who will assist in the day to day deliverables working alongside internal as well as external partners the successful candidate will be a dynamic professional who has an understanding of the outbound licensing workflow and can roll up their sleeves to knock out tasks in an orderly and swift pace \n",
      "\n",
      "key responsibilities\n",
      "help drive business by supporting licensing managers on tasks related to category management facilitating information between external and internal stakeholders and maintaining communication of product and partner planscoordinate with internal teams to gather and distribute brand and marketing updates to share out with licensing partnersmaintain and update title strategies with category licensing plans and activitycollaborate with licensing partners to obtain placement updates and distribute to internal business partnersassist licensing managers with compiling licensing recaps following product launches schedule meetings and when needed draft and distribute meeting recaps to respective business partnersprepare distribute and track deal memos and final agreements to ensure deals are processed efficiently through all stepswork with licensing managers to prepare onboarding for new licenseesfacilitate receipt of forecasts and send royalty payment reminders as neededpartner with creative teams to keep product development on track to attain commercial objectives\n",
      "what we need from you\n",
      "demonstrated  years of experience in preferably outbound licensing functionunderstanding of category manufacturing and sales cycle for toys andor food and beverage is preferredexperience working with reputable entertainment andor lifestyle brandsselfstarter motivated proactive and flexibleability to thrive under pressure in a fastpaced dynamic environmentpossess attention to details with superb organizational skillsmultitasker extraordinaire with ability to prioritizeexcellent communicator alignment with our company culture and values\n",
      "==================================================\n",
      "Job Description 4:\n",
      "description\n",
      "\n",
      "web designers looking to expand your professional reach welcome to robert half marketing  creative start the process with robert half today\n",
      "\n",
      "we are searching for highly skilled web designers with experience working within corporate brand standards and guidelines the ideal candidates would have advanced skills in creating wireframes designing mobile applications landing pages interactive sites qa testing experience working with various interfaces and familiarity with uxui design principles candidates are expected to have strong skills in adobe photoshop illustrator and indesign any experience in html css and javascript is a major plus familiarity with content management systems is highly preferred\n",
      "\n",
      "there is nothing more satisfying when looking for freelance and fulltime creative opportunities than working with someone who knows your area of expertise as industry professionals robert half marketing  creative is a team that puts your needs first and effectively represents you as a creative talent thats the kind of service youll receive from our team at robert half\n",
      "\n",
      "we have marketing advertising and creative backgrounds just like yours  so were on your side right from the start could you ask for a better support team\n",
      "\n",
      "requirements\n",
      "  years experience in a web design role\n",
      " experience working within a clients brand standards or guidelines\n",
      " advanced skill in the adobe creative cloud\n",
      "\n",
      "innovation starts with people\n",
      "\n",
      "robert half is the worlds first and largest specialized talent solutions firm that connects highly qualified job seekers to opportunities at great companies we offer contract temporary and permanent placement solutions for finance and accounting technology marketing and creative legal and administrative and customer support roles\n",
      "\n",
      "robert half puts you in the best position to succeed by advocating on your behalf and promoting you to employers we provide access to top jobs competitive compensation and benefits and free online training stay on top of every opportunity  even on the go\n",
      "\n",
      "questions call your local office at  robert half will consider qualified applicants with criminal histories in a manner consistent with the requirements of the san francisco fair chance ordinance all applicants applying for us job openings must be legally authorized to work in the united states benefits are available to temporary professionals visit\n",
      "\n",
      "  robert half an equal opportunity employer mfdisabilityveterans by clicking apply now youre agreeing to\n",
      "==================================================\n",
      "Job Description 5:\n",
      "at trackfive weve got big goals were on a mission to revolutionize recruiting with easytouse tools and platforms and we envision a future where we can fill every open job with a qualified candidate thats why were looking for pioneerspeople who blaze trails and are committed to doing great work we might be small but we are mightyweve got more than a decade of skin in the game yet weve managed to maintain our startup feel the trackfive culture is centered around hard work but we believe strongly in balance and having funin a nutshell we love coming to work we value different backgrounds and perspectives believing that together we can use our creativity and curiosity to make amazing things happen\n",
      "\n",
      "if youre ready to be a part of something exciting trackfive is currently searching for a talented web developer this position is not dependent on location and can be local to the office with hybrid or inoffice options available or fully remote\n",
      " please note that a skills test may be a requirement for potential candidates in the interview process\n",
      "\n",
      "what youll do\n",
      "\n",
      "the web developer is responsible for delivering robust solutions to our clients they work collaboratively to support trackfives existing web application portfolio and the successful delivery of new development initiatives\n",
      "\n",
      "the life of a trackfive web developer\n",
      " contribute to all phases of the development lifecycle by following internal procedures and coding standards\n",
      " build  layouts from provided psd files\n",
      " build dynamic web apps using phpmysqlframeworks\n",
      " leverage rest services and other thirdparty apis\n",
      " rapidly solve problems bugs and compatibility issues\n",
      " troubleshoot test and maintain the core product software and databases to ensure strong optimization and functionality\n",
      " develop and deploy new features to facilitate related procedures and tools as necessary\n",
      "\n",
      "skills necessary\n",
      "  years or experience with html and csssass\n",
      "  years of experience with programming php applications and lamp stack development\n",
      " experience with   javascript and jquery\n",
      " thorough understanding of relational databases and security relating to phpmysql\n",
      " expert knowledge with content management systems either from your own design or from mvc frameworks such as zend laravel etc\n",
      " ability to build and consume custom soap and rest apis\n",
      "  years of experience writing unit testsdetailing procedures\n",
      " selfmotivated requiring minimal supervision\n",
      " exceptional organization and communication skills\n",
      "\n",
      "why you want to work at trackfive\n",
      " free health insurance for employees with no waiting period\n",
      " dental and vision insurance trackfive splits the cost with you\n",
      " your birthday is a paid holiday\n",
      " companypaid short and longterm disability insurance\n",
      " companypaid life insurance\n",
      " flex time\n",
      " paid parental leave\n",
      " companymatched retirement plan with no waiting or vesting period\n",
      " the opportunity to workfromhome a few days a week\n",
      " so much swag\n",
      " cool inoffice perks like free snacks massages yoga and bringyourpettowork days just to name a few\n",
      " the opportunity to work with a great group of people up to some very exciting things\n",
      " the opportunity to attend our epic annual holiday party\n",
      " trackfive is an equal opportunity employer\n",
      "==================================================\n",
      "Job Description 6:\n",
      "designups is a nashville based design and interactive agency at designups we have a strong focus on elevating brands with our expertise in design and customer experience\n",
      "\n",
      "are you a frontend developer with a serious interest in design and ui this could be a great fit if so this job is for someone in the greater nashville area the majority of the work can be done remotely but we do require some time in our east nashville office location hey its not too bad to walk to five points pizza or wildcow for lunch\n",
      "\n",
      "this is a contract position to start with a competitive hourly rate we would like to find the right person to join our team for a longterm role\n",
      "\n",
      "skills needed\n",
      "strong attention to design details typography ui etc\n",
      "translating designs responsively for multiple screen sizes\n",
      "familiarity with bootstrap or other similar frameworks\n",
      "wordpress knowledge and desire to learn is a major bonus\n",
      "==================================================\n",
      "Job Description 7:\n",
      "about the position\n",
      "\n",
      "the web designer is responsible for providing designrelated support for clientrelated and internal projects\n",
      "\n",
      "additionally the web designer is responsible for providing designrelated support for projects that are currently in development client review and postlaunch when assigned\n",
      "\n",
      "daytoday\n",
      " collaborate closely with design managers on websiterelated projects including finishing projects that have a set art direction to hand over to the development team\n",
      " work crossfunctionally with content and development teams which includes facilitating design discussions and adjusting existing designswebsites based on client feedback in preparation for the launch of their sites\n",
      " partner with development teams to ensure the implementation of your designs and user experiences are of the highest quality\n",
      " use and evolve our design systemlibrary to craft sketches flows prototypes and highfidelity visuals for client websites and product features\n",
      " work closely with design leadership to inform and improve our processes identifying opportunities for elevating our product and user experience\n",
      " provide designrelated support for postlaunch projects\n",
      "\n",
      "requirements\n",
      "\n",
      "our ideal candidate\n",
      " is detailoriented has an excellent eye for detail and enjoys delivering pixelperfect and welldocumented designs\n",
      " knows how to design websites has experience working with and understanding responsive design patterns and systems\n",
      " is prepared to take the baton and run gladly takes on projects with set art direction and finishes off remaining design production work\n",
      " has design system experience has experience working with scalable design systems within an inhouse design team\n",
      " is a team contributor more than willing to work with design managers to develop the strategy and rationale for features and improvements to internal processes\n",
      " can speak up and be understood has strong verbal and written communication skills which is a must for a remote company\n",
      " can adjust and pivot can navigate and move forward quickly within a fastscaling company and an everevolving creator website tool\n",
      " is hungry to improve gladly welcome feedback on their own performance from design managers along with nondesigners with the intent of professional growth in the company\n",
      " most importantly can joke around a sense of humor is a must in our company\n",
      "\n",
      "our company culture revolves around among other things working hard and laughing harder\n",
      "\n",
      "requirements\n",
      "  years of experience as an individual contributor on a web or product design team for desktop and mobile\n",
      " an excellent portfolio showcasing a strong foundation in typography interaction and visual design and ideation\n",
      "\n",
      "bonus props for personal projects that display your design aesthetic and passions\n",
      " solid understanding of building usable accessible ada and modular design systems that can scale\n",
      "\n",
      "bonus props for certification in or related to ada\n",
      " experience facilitating the adoption of visual design andor patterns across a design project\n",
      " excellent understanding of figma and other design tools\n",
      " excellent written and verbal communication skills and ability to clearly communicate design decisions\n",
      " strong organizational skills and a selfstarter\n",
      "\n",
      "benefits\n",
      " remote always\n",
      " generous pto\n",
      " allowance for continuing education or training\n",
      " shiny new gear of your choice apple products\n",
      " medical dental longterm and short term disability insurance\n",
      " companysponsored life insurance\n",
      "\n",
      "dont meet  of the qualifications above thats okay apply anyway \n",
      "==================================================\n",
      "Job Description 8:\n",
      "job description\n",
      "\n",
      "zander insurance group is one of the largest direct marketers of insurance and identity theft solutions services in america our company was founded more than  years ago with the mission to protect families today millions of visitors browse our websites they are a vital way we acquire communicate with and keep our clients\n",
      "\n",
      "the web designer will drive revenue growth through the design and optimization of all clientfacing zander web properties\n",
      "\n",
      "the ideal candidate is comfortable working with highlevel stakeholders and they understand the importance of getting projects done efficiently most importantly the web designer enjoys working and as a result has a positive attitude that contributes to the overall health of the zander culture we are seeking a contributor who thrives while working autonomously asks questions when necessary and problem solves daily\n",
      "\n",
      "this is a fulltime position and includes a competitive salary and comprehensive benefits this position reports directly to the evp of marketing and will be based in our nashville tennessee office with opportunities to work remotely\n",
      "\n",
      "responsibilities include\n",
      " designing compelling direct response websites and digital content that supports the zander brand campaign objectives and drives measurable actions\n",
      " utilizing knowledge of zander products and services to create designs that support an action or campaign goal\n",
      " creating designs that are compatible across multiple devices and screen sizes\n",
      " creating mockups to conceptualize designs and presenting ideas to stakeholders\n",
      " continually improving the existing user experiences and in the process driving revenue growth\n",
      " preproduction image optimization and preparation\n",
      " work with key stakeholders to ensure appropriate review and approvals for all clientfacing sites\n",
      "\n",
      "the ideal candidate\n",
      "  years of digital design experience driving online sales or marketing\n",
      " has the ability to communicate effectively with highlevel clients\n",
      " thrives in a fastpaced and teamoriented environment\n",
      " is open to new ideas and able to adapt to changes quickly\n",
      "  years of experience with\n",
      " adobe creative suite including photoshop illustrator and indesign\n",
      " sketch\n",
      " has solid experience with ui wireframing\n",
      " has a strong ability to articulate the why when presenting design concepts\n",
      " htmlcss and js experience preferred but not required\n",
      "\n",
      "what we have to offer\n",
      " potential to work from home\n",
      " monthly profits distributions\n",
      " health and dental insurance paid  by zander insurance\n",
      "  dollarfordollar matching on your k\n",
      " generous paid time off\n",
      "\n",
      "we are an equal opportunity employer applicants are considered for position and are evaluated without regard to mental or physical disability race religion sexual orientation color gender national origin age marital status military or veteran status or any other protected local state or federal status unrelated to the performance of the work involved\n",
      "==================================================\n",
      "Job Description 9:\n",
      "tuff is a growth marketing team working with clients to drive growth by creating managing measuring and optimizing highperforming user acquisition campaigns were a fully remote and small team with endless opportunities for autonomy ownership and impact\n",
      "\n",
      "we work with clients in nearly every industry and a typical engagement with tuff includes paid search social ads seo content strategy creative and cro every account has a dedicated growth marketing lead and is supported by various channel experts\n",
      "\n",
      "for this position we are looking for an experienced web designer to join our cro team you will be the third web designer joining the team  the cro team also includes a conversion rate optimization specialist and ux copywriter\n",
      "\n",
      "in this role you will work on designs in figma for existing website optimizations and landing page development across  different client accounts this could include testing out different ctas remediating the homepage or other core pages adding in new landing pages refining pricing pages updating user flows redesigning blogs and more\n",
      "\n",
      "requirements\n",
      "\n",
      "about you\n",
      " you are a skilled web designer who has the flexibility and understanding to work on multiple established brands at once with quick mockup design turnarounds and have a strong understanding of how your designs will be translated in the web build process\n",
      " you have  years of experience managing quickturnaround designdevelopment projects in various cms platforms webflow wordpress shopify contentful etc and landing page buildings unbounce and leadpages for startups and scaleups\n",
      " you have strong project management skills setting up and adhering to detailed production timelines following up with team members to get what you need and organizing creative assets for developers\n",
      " you have a clean aesthetic and a sharp eye for layout color and typography\n",
      " youre a strategic thinker and understand how to design digital website experiences that are compelling you have a passion for brand building and can help push user experience forward across all digital touchpoints\n",
      " youre curious and solutionoriented and enjoy finding new and innovative design solutions you can work independently but are keen to collaborate across disciplines with developers cro and ux copy to design fresh website experiences\n",
      "\n",
      "during month  youll\n",
      " shadow tuffs cro team lead on three existing tuff clients to learn more about their individual brands and ongoing cro and web design needs\n",
      " adopt our existing development and design process by working with our existing web designers lyn and arturo\n",
      " learn how to guide and own website project priorities timelines scopes and costs within the tuff process using teamwork and slack\n",
      " design at least one website optimization and landing page for  different clients\n",
      "\n",
      "during months    youll\n",
      " work on various website designs ongoing monthly improvements for five tuff clients this includes testing out different ctas remediating the homepage or other core pages adding in new landing pages refining pricing pages updating user flows redesigning blogs and more\n",
      " work with growth marketers and the cro team at tuff as well as content and creative to implement website designs and updates for clients\n",
      " manage one to three developer contractorsfreelancers who will be responsible for implementing your designs on our clients sites\n",
      " fully guide website project priorities timelines scopes and costs within the tuff process\n",
      "\n",
      "things can change quickly at tuff this breakdown isnt prescriptive but intended to give you a better sense of the role\n",
      "\n",
      "benefits\n",
      "\n",
      "about you\n",
      " you have  years of experience as a web designer with a background working on sites for companies in various industries\n",
      " you have experience working with a creative production team and a familiarity with creative production tools mainly figma and adobe suite\n",
      " you have an inclusive handson collaboration style with proven experience clearly communicating timelines and deliverables\n",
      " you have a learning mindset you are committed to getting better every day\n",
      " you have a bias toward action and are both efficient and adaptable\n",
      " you are a driver focused on making an impact on the organization and clients every day\n",
      " you have demonstrated success testing and uncovering useful insights and sharing them in an engaging form that inspires people to take action\n",
      "\n",
      "benefits\n",
      "\n",
      "we are a passionate team of thirty distributed across the us\n",
      "\n",
      "youll work closely with the whole team in particular with elle creative strategist lyn web designer arturo web designer and kristin sr growth marketer coo to get up to speed on current clients and iterate on the cro and web design process at tuff\n",
      "\n",
      " fully remote  work from anywhere you want\n",
      "\n",
      " comprehensive health vision and dental coverage\n",
      "\n",
      " k with matching\n",
      "\n",
      " unlimited pto policy  and we encourage you to take it\n",
      "\n",
      " parental leave   paid  weeks\n",
      "\n",
      " home office or coworking space stipend\n",
      "\n",
      " month internet reimbursement\n",
      "\n",
      " continuing training stipend of  annually\n",
      "\n",
      " wellness day every quarter\n",
      "\n",
      " annual team retreats\n",
      "\n",
      "the starting salary range for this role is   we use a compensation formula that adjusts for experience\n",
      "\n",
      "applicants must be based in the us\n",
      "==================================================\n",
      "Job Description 10:\n",
      "type of requisition regular\n",
      "\n",
      "clearance level must be able to obtain none\n",
      "\n",
      "job family web design\n",
      "\n",
      "gdit has over  years of experience supporting the technology science and mission of the environmental protection agency gdit technologists scientists and innovators are experts in moving applications to the cloud modeling massive data sets in highperformance computing environments supporting innovative and bleeding edge technologies and scientific initiatives defending the cyber landscape and driving automation\n",
      "\n",
      "highlevel skills\n",
      " htmlcssjavascript\n",
      " drupal \n",
      " section  compliance expertise pertaining to pdfs adobe acrobat pro videos interactive trainings websites and web applications jaws dragon zoomtext articulate\n",
      " graphics design adobe photoshop illustrator after effects and lightroom\n",
      "\n",
      "specific tasks\n",
      " designs and builds complex graphics page layouts and animation that suit web pages and enhance its layout to create visual appeal\n",
      " creates an advanced detailed draft of the website outlining the various web pages according to client specifications and needs\n",
      " provides thorough testing to ensure the website is userfriendly and interactive\n",
      " provides thorough review of the final webpage design for the next level production\n",
      " collaborates with other web professionals and provide guidance on the implementation of the website\n",
      " stays current with the latest design software to improve in knowledge and skills and be able to create better design quality\n",
      " provides guidance and leadership to lessexperienced web designer personnel\n",
      "\n",
      "desired qualifications \n",
      "\n",
      "babs or equivalent experience  years of experience\n",
      "\n",
      "additional job description\n",
      "\n",
      "covid vaccination gdit does not have a vaccination mandate applicable to all employees to protect the health and safety of its employees and to comply with customer requirements however gdit may require employees in certain positions to be fully vaccinated against covid vaccination requirements will depend on the status of the federal contractor mandate and customer site requirements\n",
      "\n",
      "we are gdit the people supporting some of the most complex government defense and intelligence projects across the country we deliver bringing the expertise needed to understand and advance critical missions we transform shifting the ways clients invest in integrate and innovate technology solutions we ensure today is safe and tomorrow is smarter we are there on the ground beside our clients in the lab and everywhere in between offering the technology transformations strategy and mission services needed to get the job done\n",
      "\n",
      "gdit is an equal opportunityaffirmative action employer all qualified applicants will receive consideration for employment without regard to race color religion sex sexual orientation gender identity national origin disability or veteran status or any other protected class\n",
      "\n",
      "covid vaccination gdit does not have a vaccination mandate applicable to all employees to protect the health and safety of its employees and to comply with customer requirements however gdit may require employees in certain positions to be fully vaccinated against covid vaccination requirements will depend on the status of the federal contractor mandate and customer site requirements\n",
      "\n",
      "we are gdit the people supporting some of the most complex government defense and intelligence projects across the country we deliver bringing the expertise needed to understand and advance critical missions we transform shifting the ways clients invest in integrate and innovate technology solutions we ensure today is safe and tomorrow is smarter we are there on the ground beside our clients in the lab and everywhere in between offering the technology transformations strategy and mission services needed to get the job done\n",
      "\n",
      "gdit is an equal opportunityaffirmative action employer all qualified applicants will receive consideration for employment without regard to race color religion sex sexual orientation gender identity national origin disability or veteran status or any other protected class\n",
      "==================================================\n",
      "Job Description 11:\n",
      "web developer\n",
      "\n",
      "job id \n",
      "\n",
      " positions \n",
      "\n",
      "location ustnnashville\n",
      "\n",
      "posted date \n",
      "\n",
      "category digital business  digital operations\n",
      "\n",
      "level representative\n",
      "\n",
      "more information about this job\n",
      "\n",
      "overview\n",
      "\n",
      "leading country music company sony music nashville is looking for a technical highlymotivated rockstar web developer are you the professional who can help us make a direct impact on our artists sales and label success in the online world\n",
      "\n",
      "consider this rewarding position in our digital department if you\n",
      "\n",
      "have the ability to design across a broad range of artistic styles\n",
      "\n",
      "are capable of working concurrently on multiple projects in a fastpaced environment and stay on deadline\n",
      "\n",
      "sony music entertainment is a global recorded music company with a roster of current artists that includes a broad array of both local artists and international superstars as well as a vast catalog that comprises some of the most important recordings in history sony music entertainment is a wholly owned subsidiary of sony corporation of america\n",
      "\n",
      "all qualified applicants will receive consideration for employment without regard to race color religion sex national origin disability or protected veteran status\n",
      "\n",
      "responsibilities\n",
      "\n",
      "the web developer will use technical skills to develop and maintain the online assets for sony music nashvilles roster of artist this will include the creation of digital assets coding of online campaigns maintenance of company and label internet and intranet websites and the collection and evaluation of marketing response data\n",
      "\n",
      "design create and code promotional pages social skins email campaigns banner ads web interfaces and page layouts\n",
      "\n",
      "collaborate closely with frontend and backend developers throughout the entire development process\n",
      "\n",
      "maintain and update active company label websites images audio files press releases graphics\n",
      "\n",
      "troubleshoot creative and technical challenges\n",
      "\n",
      "analyze and make recommendations regarding traffic and activity on community properties\n",
      "\n",
      "continually research emerging digital technologies and services\n",
      "\n",
      "advise director of strategy on best use of new trends and knowledge that could positively impact artist roster\n",
      "\n",
      "complete other duties and responsibilities as assigned\n",
      "\n",
      "qualifications\n",
      "\n",
      "at least  years of experience in building and maintaining websites\n",
      "\n",
      "proficiency in writing code in one or more of these languages htmlcssjavascript and basic phpmysql\n",
      "\n",
      "proven experience building and maintaining webbased platforms experience with wordpress\n",
      "\n",
      "strong grounding in interaction design fundamentals and web best practices\n",
      "\n",
      "experience with the adobe creative suite\n",
      "\n",
      "experience with audio and video editing\n",
      "\n",
      "knowledge of api integration\n",
      "\n",
      "basic knowledge of crossbrowser testing and responsive web design\n",
      "\n",
      "experience with motion graphics a plus\n",
      "\n",
      "must possess an online portfolio with a range of sample work\n",
      "\n",
      "the ideal candidate will have\n",
      "\n",
      "capacity to rapidly design and develop web pages based on shifting calendars\n",
      "\n",
      "aptitude to find solutions to novel coding issues and the resourcefulness to troubleshoot issues independently\n",
      "\n",
      "ability to be a highperforming team player enthusiastic to work with colleagues from marketing through technology\n",
      "\n",
      "enjoy a challenging and creative atmosphere in the music industry employees work in the music row area of nashville tennessee and receive outstanding benefits including k match medicaldentallifedisability insurance\n",
      "\n",
      "your cover letter is your opportunity to convince us you are the perfect person for this job take note to identify any experiences related to the job requirements and the ideal candidate described above\n",
      "\n",
      "note if you have previously applied for a sony music entertainment job and wish to submit a different résumé or cover letter than the one you last used follow these steps\n",
      " apply for this job online\n",
      " click on update profile from there upload a new résumé or copy and paste a new cover letter be sure to click update profile at the bottom of the page when youre done\n",
      "\n",
      "we communicate with applicants by email if you dont receive an email confirming our receipt of your application please check your spam filter and add us to your allowed email list autoreplyicimscom and noreplysonymusiccom\n",
      "==================================================\n",
      "Job Description 12:\n",
      "snapshot is looking for a back end developer to join our organization and make an immediate impact and help us ensure we meet our core purpose with every project  we live to overdeliver inspirational solutions you may be the right person for us if you\n",
      "\n",
      "are upbeat  meaning that you come to snapshot with a positive attitude and desire to improve  each week\n",
      "\n",
      "own your work  from your first day you are the type of individual that takes ownership of your projects and goes above and beyond for all our clients\n",
      "\n",
      "enjoy a challenge our deliverables and service standards are always changing and new projects kick off daily you stay ahead of the curve and enjoy learning more about the industry to help educate our clients and stay in the know\n",
      "\n",
      "about us\n",
      "\n",
      "snapshot is a fullservice digital agency bridging the gap between highquality video production awardwinning website design and creative online marketing strategies we help our clients big and small showcase their companies and products to the world in a fresh engaging way\n",
      "\n",
      "we have a heavy consistent project load and we need someone ready to hit the ground running if youre looking for a company that will stretch your creative abilities and teaches you the entrepreneurial spirit you belong here our team is selfmotivated disciplined and all work effectively as part of a team\n",
      "\n",
      "compensation benefits\n",
      "\n",
      " salaried position with pay depending upon experience\n",
      "\n",
      " health insurance coverage\n",
      "\n",
      " life insurance policy\n",
      "\n",
      " shortterm  longterm disability insurance\n",
      "\n",
      "  paid holidays  days of vacation and week personal paid time off\n",
      "\n",
      " retirement plan\n",
      "\n",
      " and more\n",
      "\n",
      "description requirements\n",
      "\n",
      "the candidate will be someone that can code with confidence and create the amazing backend framework to deliver on our clients vision and expectations they will possess critical thinking skills to put to themselves in our clients shoes and troubleshoot issues independently\n",
      "\n",
      "responsibilities include\n",
      "\n",
      " helping to create amazing wordpress websites that reflect our clients brand and objectives\n",
      "\n",
      " execute updates and troubleshoot client websites for a wide variety of issues and resolutions\n",
      "\n",
      " seamless integrations of hubspot functions and plugins\n",
      "\n",
      " use of project management software for tracking projects updates and completion\n",
      "\n",
      " timely completion of projects tracking progress in project management system\n",
      "\n",
      " professional communication with team\n",
      "\n",
      "required experience\n",
      "\n",
      " bachelors degree or equivalent experience\n",
      "\n",
      "  years professional experience\n",
      "\n",
      " understanding of objectoriented programming and mvc\n",
      "\n",
      " custom scripting and thirdparty api integration\n",
      "\n",
      " experience using hubspot integrations\n",
      "\n",
      " custom wordpress theming sage preferred\n",
      "\n",
      " custom rest api development\n",
      "\n",
      " expert level css foundation or bootstrap php  mysql\n",
      "\n",
      " knowledge of responsive and mobilefirst best practices\n",
      "\n",
      " strong ability to debug crossbrowser issues\n",
      "\n",
      " detailoriented with strong organizational skills\n",
      "\n",
      " selfmotivated disciplined and able to work effectively as part of a team\n",
      "\n",
      " ability to maintain ownership of individual projects from start to finish while also working on collaborative projects\n",
      "\n",
      " familiarity with illustrator photoshop and sketch\n",
      "\n",
      "bonus\n",
      "\n",
      " experience with laravel\n",
      "\n",
      " basic commandline experience\n",
      "\n",
      " experience with deploying websites\n",
      "\n",
      " experience with git or other version control systems\n",
      "\n",
      " knowledge of css preprocessors such sass and less\n",
      "\n",
      "job type fulltime\n",
      "\n",
      "pay    per year\n",
      "\n",
      "benefits\n",
      " k\n",
      " k matching\n",
      " dental insurance\n",
      " employee assistance program\n",
      " health insurance\n",
      " health savings account\n",
      " life insurance\n",
      " paid time off\n",
      " parental leave\n",
      " retirement plan\n",
      " vision insurance\n",
      "\n",
      "schedule\n",
      "  hour shift\n",
      " monday to friday\n",
      "\n",
      "ability to commuterelocate\n",
      " nashville tn  reliably commute or planning to relocate before starting work preferred\n",
      "\n",
      "education\n",
      " bachelors required\n",
      "\n",
      "experience\n",
      " backend development  year required\n",
      "\n",
      "work location one location\n",
      "==================================================\n",
      "Job Description 13:\n",
      " we are seeking a senior ui designer who relishes in methodically applied color palettes and takes pride in your type of ramp\n",
      " when your work is done the mobile apps and responsive websites you create not only look amazing but act as a seamless extension of your clients brand voice and business strategy\n",
      " act as the lead or contributing designer on projects presenting work across the design ux and development teams\n",
      " create designs that are onbrand for our clients and follow a projects creative vision and business strategy while putting the user first\n",
      " collaborate with other groups like developers engagement managers and ux designers to deliver highquality creative for both internal and clientfacing projects\n",
      " provide constructive art direction alongside your fellow designers\n",
      " work on projects of varying length and complexity\n",
      " contribute to improvements in our creative process and capabilities\n",
      "   years of related design experience\n",
      " experience and ability to work in a variety of digitalfocused design applications like sketch invision and illustrator\n",
      " proficiency in web optimization principles and other production methods\n",
      " crossplatform web  mobile development experience ios android etc\n",
      " proficiency in producing pixel perfect design files\n",
      " ability to use motion tools like adobe after effects principle for mac and framer to communicate interaction design and motion\n",
      " must be legally authorized to work in the united states without the need for employer sponsorship now or at any time in the future\n",
      " experience creating design systems for enterpriselevel experiences\n",
      " experience creating icons and other custom illustrations for experiences\n",
      " curiosity to learn from others and a passion for learning and pursuing your craft\n",
      " experience working in a consulting environment\n",
      " participation in the wider design community and connections with creative organizations such as aiga creative mornings etc\n",
      " ability to take feedback and use it to improve your work\n",
      " a developed personal style with the ability to scale and adapt as the project needs\n",
      " sits within our advertising marketing  commerce offering\n",
      " within our group we create content communications and experiences that engage and inspire our clients customers to act\n",
      " we implement and operate the technology platforms that enable personalized content commerce and usercentric experiences\n",
      " and in doing so we transform our clients marketing and engagement operations into modern datadriven creatively focused organizations  all built to drive growth\n",
      " from developing a stand out resume to putting your best foot forward in the interview we want you to feel prepared and confident as you explore opportunities at deloitte\n",
      " check out recruiting tips from deloitte recruiters\n",
      " at deloitte we know that great people make a great organization\n",
      " we value our people and offer employees a broad range of benefits\n",
      " learn more about what working at deloitte can mean for you\n",
      " our people and culture\n",
      " our diverse equitable and inclusive culture empowers our people to be who they are contribute their unique perspectives and make a difference individually and collectively\n",
      " it enables us to leverage different ideas and perspectives and bring more creativity and innovation to help solve our client most complex challenges\n",
      " this makes deloitte one of the most rewarding places to work\n",
      " learn more about our inclusive culture\n",
      " from entrylevel employees to senior leaders we believe theres always room to learn\n",
      " we offer opportunities to build new skills take on leadership opportunities and connect and grow through mentorship\n",
      " from onthejob learning experiences to formal development programs our professionals have a variety of opportunities to continue to grow throughout their career\n",
      " as used in this posting deloitte means deloitte consulting llp a subsidiary of deloitte llp please see \n",
      " deloittecomusabout for a detailed description of the legal structure of deloitte llp and its subsidiaries\n",
      " all qualified applicants will receive consideration for employment without regard to race color religion sex sexual orientation gender identity national origin age disability or protected veteran status or any other legally protected basis in accordance with applicable law\n",
      " deloitte will consider for employment all qualified applicants including those with criminal histories in a manner consistent with the requirements of applicable state and local laws\n",
      " see notices of various banthebox laws where available\n",
      " requisition code \n",
      "==================================================\n",
      "Job Description 14:\n",
      " design develop and test high quality software features by understanding user needs and implementing well designed code\n",
      " follow and implement the code with standards and best practices\n",
      " good communication sense of urgency  a good team player\n",
      "\n",
      "skills  experience\n",
      " a bachelors degree in computer science engineering information technology or equivalent experience\n",
      "  years professional software development experience with php on wordpress in an enterprise environment\n",
      " development experience in wordpress wp plugins php htmlcss  java script\n",
      " mysql linux git\n",
      " strong analytical and debugging skills testing and familiarity with common debugging tools\n",
      "==================================================\n",
      "Job Description 15:\n",
      "if youre passionate about building a better future for individuals communities and our countryand youre committed to working hard to play your part in building that futureconsider wgu as the next step in your career\n",
      "\n",
      "driven by a mission to expand access to higher education through online competencybased degree programs wgu is also committed to being a great place to work for a diverse workforce of studentfocused professionals the university has pioneered a new way to learn in the  century one that has received praise from academic industry government and media leaders whatever your role working for wgu gives you a part to play in helping students graduate creating a better tomorrow for themselves and their families\n",
      "\n",
      "position summary\n",
      "\n",
      "the web designer works on the creative side of producing a website they are responsible for designing visual elements for use online reflecting our branding and design aesthetic they create layouts for landing pages product pages homepages category pages and other areas of the website ensuring their designs are emotionally compelling unique and on strategy the position is remote\n",
      "\n",
      "essential functions and responsibilities\n",
      "\n",
      "this person will be part our creative team consisting of over  talented people including copywriters video editors and graphic designers the position will report to the sr manager of brand design this position works closely with the greater marketing team to create pages that will help to increase engagement and conversion within our newly designed website environment\n",
      "\n",
      "their duties and responsibilities may include\n",
      " take a key role in the design and layout of our consumer facing webpages\n",
      " creating wireframes for initial review by the greater marketing team to make sure they map to the overall marketing strategy\n",
      " be able to understand user personas and have ideas for which kinds of content would be the most effective eg videos infographics header images charts etc\n",
      " create highfidelity comps in at least one webpage mockup tools such as figma sketch photoshop adobexd invision webflow etc for the visual layout and design of web pages the ability to program is not necessary as this role is more design oriented\n",
      " experience with web content management systems and page building tools we currently use adobe aem version \n",
      " work within our newly developed component library and customize components as needed\n",
      " advocate a passion for applying user feedback through various testing methods and be able to iterate based on design feedback\n",
      " collaborate with other designers front and backend development teams content owners project managers and other internal teams to create great user experiences\n",
      " liaising with copywriters graphic designers developers and project management to ensure that tasks are completed on time\n",
      " create and lead best uiux practices and disciplines and help ensure these guidelines are followed throughout the implementation phase\n",
      "\n",
      "knowledge skill and abilities\n",
      " proficient in the use of the adobe creative suite   \n",
      " ability to prototype designs in interactive formats using figma adobexd sketch or other similar tools\n",
      " understanding of best practices in designing for responsive websites with a focus on mobile first\n",
      " highlevel understanding of visual design principles including color optimization layout hierarchy typography and composition\n",
      " effectively communicate your designs to developers and other key stakeholders\n",
      "\n",
      "qualifications\n",
      "\n",
      "minimum qualifications\n",
      "  years experience working as a uxui designer including design development implementation and production deployment\n",
      " a portfolio of examples of webpage design\n",
      "\n",
      "as an equal opportunity employer wgu recognizes that our strength lies in our people we are committed to diversity\n",
      "==================================================\n"
     ]
    }
   ],
   "source": [
    "from datasets import load_dataset\n",
    "\n",
    "# Load the Hugging Face dataset for job descriptions\n",
    "dataset = load_dataset('jacob-hugging-face/job-descriptions')\n",
    "\n",
    "# Extract and comprehend 10-15 job descriptions\n",
    "num_descriptions_to_extract = 15  # You can adjust this number as needed\n",
    "\n",
    "# Loop through and print job descriptions\n",
    "for i, description in enumerate(dataset['train']['job_description'][:num_descriptions_to_extract]):\n",
    "    print(f\"Job Description {i+1}:\")\n",
    "    print(description)\n",
    "    print(\"=\"*50)  # Separator for readability"
   ]
  },
  {
   "cell_type": "code",
   "execution_count": 18,
   "id": "2c8d1c21",
   "metadata": {},
   "outputs": [],
   "source": [
    "from transformers import DistilBertTokenizer, DistilBertModel\n",
    "import torch\n",
    "from sklearn.metrics.pairwise import cosine_similarity"
   ]
  },
  {
   "cell_type": "code",
   "execution_count": 19,
   "id": "ed9ddb24",
   "metadata": {},
   "outputs": [],
   "source": [
    "# Tokenize and encode job descriptions and CVs\n",
    "job_description= [...]  # List of job descriptions\n",
    "cv_texts = [...]  # List of CV texts"
   ]
  },
  {
   "cell_type": "code",
   "execution_count": 20,
   "id": "50a94c33",
   "metadata": {},
   "outputs": [
    {
     "data": {
      "application/vnd.jupyter.widget-view+json": {
       "model_id": "bd39773837004e6b92bbb58e0b942b7a",
       "version_major": 2,
       "version_minor": 0
      },
      "text/plain": [
       "Downloading:   0%|          | 0.00/570 [00:00<?, ?B/s]"
      ]
     },
     "metadata": {},
     "output_type": "display_data"
    },
    {
     "name": "stderr",
     "output_type": "stream",
     "text": [
      "C:\\Users\\Prajwal\\anaconda3\\New folder\\lib\\site-packages\\huggingface_hub\\file_download.py:127: UserWarning: `huggingface_hub` cache-system uses symlinks by default to efficiently store duplicated files but your machine does not support them in C:\\Users\\Prajwal\\.cache\\huggingface\\hub. Caching files will still work but in a degraded version that might require more space on your disk. This warning can be disabled by setting the `HF_HUB_DISABLE_SYMLINKS_WARNING` environment variable. For more details, see https://huggingface.co/docs/huggingface_hub/how-to-cache#limitations.\n",
      "To support symlinks on Windows, you either need to activate Developer Mode or to run Python as an administrator. In order to see activate developer mode, see this article: https://docs.microsoft.com/en-us/windows/apps/get-started/enable-your-device-for-development\n",
      "  warnings.warn(message)\n"
     ]
    },
    {
     "data": {
      "application/vnd.jupyter.widget-view+json": {
       "model_id": "e7109f9fba2040ffab74a0b07b4443c9",
       "version_major": 2,
       "version_minor": 0
      },
      "text/plain": [
       "Downloading:   0%|          | 0.00/440M [00:00<?, ?B/s]"
      ]
     },
     "metadata": {},
     "output_type": "display_data"
    },
    {
     "name": "stderr",
     "output_type": "stream",
     "text": [
      "Some weights of the model checkpoint at bert-base-uncased were not used when initializing BertModel: ['cls.predictions.bias', 'cls.seq_relationship.weight', 'cls.predictions.transform.LayerNorm.bias', 'cls.predictions.transform.dense.bias', 'cls.predictions.transform.LayerNorm.weight', 'cls.predictions.decoder.weight', 'cls.predictions.transform.dense.weight', 'cls.seq_relationship.bias']\n",
      "- This IS expected if you are initializing BertModel from the checkpoint of a model trained on another task or with another architecture (e.g. initializing a BertForSequenceClassification model from a BertForPreTraining model).\n",
      "- This IS NOT expected if you are initializing BertModel from the checkpoint of a model that you expect to be exactly identical (initializing a BertForSequenceClassification model from a BertForSequenceClassification model).\n"
     ]
    },
    {
     "data": {
      "application/vnd.jupyter.widget-view+json": {
       "model_id": "fed7dc0b98c248e282c2ce2e906d6c2e",
       "version_major": 2,
       "version_minor": 0
      },
      "text/plain": [
       "Downloading:   0%|          | 0.00/28.0 [00:00<?, ?B/s]"
      ]
     },
     "metadata": {},
     "output_type": "display_data"
    },
    {
     "data": {
      "application/vnd.jupyter.widget-view+json": {
       "model_id": "5725814c7a3146c187c5ee128a5fe5a5",
       "version_major": 2,
       "version_minor": 0
      },
      "text/plain": [
       "Downloading:   0%|          | 0.00/232k [00:00<?, ?B/s]"
      ]
     },
     "metadata": {},
     "output_type": "display_data"
    },
    {
     "data": {
      "application/vnd.jupyter.widget-view+json": {
       "model_id": "0e41989cbaac4780a20ec283aad95d4e",
       "version_major": 2,
       "version_minor": 0
      },
      "text/plain": [
       "Downloading:   0%|          | 0.00/466k [00:00<?, ?B/s]"
      ]
     },
     "metadata": {},
     "output_type": "display_data"
    }
   ],
   "source": [
    "from tokenizers import Tokenizer, models, pre_tokenizers, decoders, trainers\n",
    "from transformers import AutoModel, AutoTokenizer\n",
    "import torch\n",
    "\n",
    "# Initialize a basic tokenizer\n",
    "tokenizer = Tokenizer(models.BPE())\n",
    "\n",
    "# Pre-tokenization\n",
    "tokenizer.pre_tokenizer = pre_tokenizers.Whitespace()\n",
    "\n",
    "# Post-processing\n",
    "tokenizer.decoder = decoders.ByteLevel()\n",
    "\n",
    "# Train the tokenizer on your data\n",
    "description_texts = [\"your description text 1\", \"your description text 2\"]\n",
    "cv_texts = [\"your CV text 1\", \"your CV text 2\"]\n",
    "\n",
    "all_texts = description_texts + cv_texts\n",
    "\n",
    "trainer = trainers.BpeTrainer(special_tokens=[\"[PAD]\", \"[CLS]\", \"[SEP]\", \"[MASK]\", \"[UNK]\"])\n",
    "tokenizer.train_from_iterator(all_texts, trainer=trainer)\n",
    "\n",
    "# Initialize the transformer model and tokenizer\n",
    "model_name = \"bert-base-uncased\"  # Replace with the desired model name\n",
    "model = AutoModel.from_pretrained(model_name)\n",
    "tokenizer = AutoTokenizer.from_pretrained(model_name)\n",
    "\n",
    "\n",
    "# Encode the description and CV texts\n",
    "description_encoded = tokenizer(description_texts, padding=True, truncation=True, return_tensors=\"pt\", max_length=128)\n",
    "cv_texts_encoded = tokenizer(cv_texts, padding=True, truncation=True, return_tensors=\"pt\", max_length=128)\n",
    "\n",
    "# Get embeddings\n",
    "job_descriptions_embeddings = model(**description_encoded).last_hidden_state.mean(dim=1)\n",
    "cv_texts_embeddings = model(**cv_texts_encoded).last_hidden_state.mean(dim=1)\n",
    "\n",
    "# Now you have embeddings for your description and CV texts"
   ]
  },
  {
   "cell_type": "code",
   "execution_count": 21,
   "id": "9513e6a5",
   "metadata": {},
   "outputs": [],
   "source": [
    "# Calculate cosine similarity\n",
    "\n",
    "from sklearn.metrics.pairwise import cosine_similarity\n",
    "import numpy as np\n",
    "\n",
    "# Assuming you have two PyTorch tensors: job_descriptions_embeddings and cv_texts_embeddings\n",
    "# Detach the tensors and convert them to NumPy arrays\n",
    "job_descriptions_array = job_descriptions_embeddings.detach().numpy()\n",
    "cv_texts_array = cv_texts_embeddings.detach().numpy()\n",
    "\n",
    "# Calculate cosine similarity\n",
    "similarity_matrix = cosine_similarity(job_descriptions_array, cv_texts_array)"
   ]
  },
  {
   "cell_type": "code",
   "execution_count": 24,
   "id": "060edd15",
   "metadata": {},
   "outputs": [],
   "source": [
    "# Rank CVs based on similarity for each job description\n",
    "top_candidates = []\n",
    "for i, job_description in enumerate(job_description):\n",
    "    similarities = similarity_matrix[i]\n",
    "    sorted_indices = similarities.argsort()[::-1]  # Sort in descending order\n",
    "    top_candidates.append(sorted_indices[:5])  # Get top 5 candidates"
   ]
  },
  {
   "cell_type": "code",
   "execution_count": 25,
   "id": "c1f214db",
   "metadata": {},
   "outputs": [
    {
     "name": "stdout",
     "output_type": "stream",
     "text": [
      "Job Description 1 - Top Candidates:\n",
      "CV Index: 0, Similarity: 0.883575439453125\n",
      "CV Index: 1, Similarity: 0.8675036430358887\n"
     ]
    }
   ],
   "source": [
    "# Print top candidates for each job description\n",
    "for i, candidates in enumerate(top_candidates):\n",
    "    print(f\"Job Description {i + 1} - Top Candidates:\")\n",
    "    for candidate_idx in candidates:\n",
    "        print(f\"CV Index: {candidate_idx}, Similarity: {similarity_matrix[i][candidate_idx]}\")"
   ]
  },
  {
   "cell_type": "code",
   "execution_count": null,
   "id": "de343999",
   "metadata": {},
   "outputs": [],
   "source": []
  }
 ],
 "metadata": {
  "kernelspec": {
   "display_name": "Python 3 (ipykernel)",
   "language": "python",
   "name": "python3"
  },
  "language_info": {
   "codemirror_mode": {
    "name": "ipython",
    "version": 3
   },
   "file_extension": ".py",
   "mimetype": "text/x-python",
   "name": "python",
   "nbconvert_exporter": "python",
   "pygments_lexer": "ipython3",
   "version": "3.9.13"
  }
 },
 "nbformat": 4,
 "nbformat_minor": 5
}
